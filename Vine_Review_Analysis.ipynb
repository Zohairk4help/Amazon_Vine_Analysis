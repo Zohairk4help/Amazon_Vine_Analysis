{
  "nbformat": 4,
  "nbformat_minor": 0,
  "metadata": {
    "colab": {
      "name": "Vine_Review_Analysis.ipynb",
      "provenance": [],
      "collapsed_sections": [],
      "authorship_tag": "ABX9TyPrMmNOR6P7qnFVw+FUf56T",
      "include_colab_link": true
    },
    "kernelspec": {
      "name": "python3",
      "display_name": "Python 3"
    },
    "language_info": {
      "name": "python"
    }
  },
  "cells": [
    {
      "cell_type": "markdown",
      "metadata": {
        "id": "view-in-github",
        "colab_type": "text"
      },
      "source": [
        "<a href=\"https://colab.research.google.com/github/Zohairk4help/Amazon_Vine_Analysis/blob/main/Vine_Review_Analysis.ipynb\" target=\"_parent\"><img src=\"https://colab.research.google.com/assets/colab-badge.svg\" alt=\"Open In Colab\"/></a>"
      ]
    },
    {
      "cell_type": "code",
      "execution_count": 110,
      "metadata": {
        "colab": {
          "base_uri": "https://localhost:8080/"
        },
        "id": "KirBk0owqJSM",
        "outputId": "cd7318c1-9ba5-4174-b0aa-0a1e19ab368a"
      },
      "outputs": [
        {
          "output_type": "stream",
          "name": "stdout",
          "text": [
            "\r0% [Working]\r            \rHit:1 https://cloud.r-project.org/bin/linux/ubuntu bionic-cran40/ InRelease\n",
            "\r0% [Connecting to archive.ubuntu.com (91.189.88.152)] [Waiting for headers] [Co\r                                                                               \rGet:2 http://security.ubuntu.com/ubuntu bionic-security InRelease [88.7 kB]\n",
            "Hit:3 http://ppa.launchpad.net/c2d4u.team/c2d4u4.0+/ubuntu bionic InRelease\n",
            "Hit:4 http://ppa.launchpad.net/cran/libgit2/ubuntu bionic InRelease\n",
            "Hit:5 http://ppa.launchpad.net/deadsnakes/ppa/ubuntu bionic InRelease\n",
            "Ign:6 https://developer.download.nvidia.com/compute/cuda/repos/ubuntu1804/x86_64  InRelease\n",
            "Hit:7 http://archive.ubuntu.com/ubuntu bionic InRelease\n",
            "Hit:8 http://ppa.launchpad.net/graphics-drivers/ppa/ubuntu bionic InRelease\n",
            "Hit:9 http://archive.ubuntu.com/ubuntu bionic-updates InRelease\n",
            "Hit:10 http://archive.ubuntu.com/ubuntu bionic-backports InRelease\n",
            "Ign:11 https://developer.download.nvidia.com/compute/machine-learning/repos/ubuntu1804/x86_64  InRelease\n",
            "Hit:12 https://developer.download.nvidia.com/compute/cuda/repos/ubuntu1804/x86_64  Release\n",
            "Hit:13 https://developer.download.nvidia.com/compute/machine-learning/repos/ubuntu1804/x86_64  Release\n",
            "Fetched 88.7 kB in 3s (34.5 kB/s)\n",
            "Reading package lists... Done\n"
          ]
        }
      ],
      "source": [
        "import os\n",
        "# Find the latest version of spark 3.0 from http://www.apache.org/dist/spark/ and enter as the spark version\n",
        "# For example:\n",
        "# spark_version = 'spark-3.0.3'\n",
        "spark_version = 'spark-3.0.3'\n",
        "os.environ['SPARK_VERSION']=spark_version\n",
        "\n",
        "# Install Spark and Java\n",
        "!apt-get update\n",
        "!apt-get install openjdk-11-jdk-headless -qq > /dev/null\n",
        "!wget -q http://www.apache.org/dist/spark/$SPARK_VERSION/$SPARK_VERSION-bin-hadoop2.7.tgz\n",
        "!tar xf $SPARK_VERSION-bin-hadoop2.7.tgz\n",
        "!pip install -q findspark\n",
        "\n",
        "# Set Environment Variables\n",
        "import os\n",
        "os.environ[\"JAVA_HOME\"] = \"/usr/lib/jvm/java-11-openjdk-amd64\"\n",
        "os.environ[\"SPARK_HOME\"] = f\"/content/{spark_version}-bin-hadoop2.7\"\n",
        "\n",
        "# Start a SparkSession\n",
        "import findspark\n",
        "findspark.init()"
      ]
    },
    {
      "cell_type": "code",
      "source": [
        "# Download the Postgres driver that will allow Spark to interact with Postgres.\n",
        "!wget https://jdbc.postgresql.org/download/postgresql-42.2.16.jar\n"
      ],
      "metadata": {
        "id": "TOED7vSOyUoA",
        "colab": {
          "base_uri": "https://localhost:8080/"
        },
        "outputId": "260aec42-ea71-402d-d61a-3654705ec564"
      },
      "execution_count": 111,
      "outputs": [
        {
          "output_type": "stream",
          "name": "stdout",
          "text": [
            "--2022-01-23 13:38:15--  https://jdbc.postgresql.org/download/postgresql-42.2.16.jar\n",
            "Resolving jdbc.postgresql.org (jdbc.postgresql.org)... 72.32.157.228, 2001:4800:3e1:1::228\n",
            "Connecting to jdbc.postgresql.org (jdbc.postgresql.org)|72.32.157.228|:443... connected.\n",
            "HTTP request sent, awaiting response... 200 OK\n",
            "Length: 1002883 (979K) [application/java-archive]\n",
            "Saving to: ‘postgresql-42.2.16.jar.3’\n",
            "\n",
            "postgresql-42.2.16. 100%[===================>] 979.38K  5.72MB/s    in 0.2s    \n",
            "\n",
            "2022-01-23 13:38:15 (5.72 MB/s) - ‘postgresql-42.2.16.jar.3’ saved [1002883/1002883]\n",
            "\n"
          ]
        }
      ]
    },
    {
      "cell_type": "code",
      "source": [
        "# Start Spark session\n",
        "from pyspark.sql import SparkSession\n",
        "spark = SparkSession.builder.appName(\"M16-Amazon-Challenge\").config(\"spark.driver.extraClassPath\",\"/content/postgresql-42.2.16.jar\").getOrCreate()"
      ],
      "metadata": {
        "id": "1dEed12qxZQy"
      },
      "execution_count": 112,
      "outputs": []
    },
    {
      "cell_type": "markdown",
      "source": [
        "# Load Amazon Data into Spark DataFrame"
      ],
      "metadata": {
        "id": "s0OQ-sWhy4cW"
      }
    },
    {
      "cell_type": "code",
      "source": [
        "from pyspark import SparkFiles\n",
        "url = \"https://s3.amazonaws.com/amazon-reviews-pds/tsv/amazon_reviews_us_Musical_Instruments_v1_00.tsv.gz\"\n",
        "spark.sparkContext.addFile(url)\n",
        "Musical_Instruments_df = spark.read.option(\"encoding\", \"UTF-8\").csv(SparkFiles.get(\"\"), sep=\"\\t\", header=True, inferSchema=True)\n",
        "Musical_Instruments_df.show()"
      ],
      "metadata": {
        "id": "pvBmNAJtzFBI",
        "colab": {
          "base_uri": "https://localhost:8080/"
        },
        "outputId": "3474d787-8491-4318-9aa7-45375352f409"
      },
      "execution_count": 113,
      "outputs": [
        {
          "output_type": "stream",
          "name": "stdout",
          "text": [
            "+-----------+-----------+--------------+----------+--------------+--------------------+-------------------+-----------+-------------+-----------+----+-----------------+--------------------+--------------------+-----------+\n",
            "|marketplace|customer_id|     review_id|product_id|product_parent|       product_title|   product_category|star_rating|helpful_votes|total_votes|vine|verified_purchase|     review_headline|         review_body|review_date|\n",
            "+-----------+-----------+--------------+----------+--------------+--------------------+-------------------+-----------+-------------+-----------+----+-----------------+--------------------+--------------------+-----------+\n",
            "|         US|   45610553| RMDCHWD0Y5OZ9|B00HH62VB6|     618218723|AGPtek® 10 Isolat...|Musical Instruments|          3|            0|          1|   N|                N|         Three Stars|Works very good, ...| 2015-08-31|\n",
            "|         US|   14640079| RZSL0BALIYUNU|B003LRN53I|     986692292|Sennheiser HD203 ...|Musical Instruments|          5|            0|          0|   N|                Y|          Five Stars|Nice headphones a...| 2015-08-31|\n",
            "|         US|    6111003| RIZR67JKUDBI0|B0006VMBHI|     603261968|AudioQuest LP rec...|Musical Instruments|          3|            0|          1|   N|                Y|         Three Stars|removes dust. doe...| 2015-08-31|\n",
            "|         US|    1546619|R27HL570VNL85F|B002B55TRG|     575084461|Hohner Inc. 560BX...|Musical Instruments|          5|            0|          0|   N|                Y|I purchase these ...|I purchase these ...| 2015-08-31|\n",
            "|         US|   12222213|R34EBU9QDWJ1GD|B00N1YPXW2|     165236328|Blue Yeti USB Mic...|Musical Instruments|          5|            0|          0|   N|                Y|          Five Stars|This is an awesom...| 2015-08-31|\n",
            "|         US|   46018513|R1WCUI4Z1SIQEO|B001N4GRGS|     134151483|Middle Atlantic P...|Musical Instruments|          5|            0|          0|   N|                N|          Five Stars|Used to cool equi...| 2015-08-31|\n",
            "|         US|   10225065| RL5LNO26GAVJ1|B009PJRMHQ|     694166585|Kmise 1pc Pickgua...|Musical Instruments|          2|            3|          4|   N|                Y|Will not Fit Epip...|Note- Does not Fi...| 2015-08-31|\n",
            "|         US|    6356995|R3GYQ5W8JHP8SB|B00NKBDAZS|     446431775|Kealoha Concert U...|Musical Instruments|          5|            0|          0|   N|                Y|          Five Stars|Well built Ukulel...| 2015-08-31|\n",
            "|         US|   35297198|R30SHYQXGG5EYC|B006MIU7U2|     125871705|Halco 80000 - MR1...|Musical Instruments|          5|            0|          0|   N|                Y|Works fine. Hope ...|Had to replace a ...| 2015-08-31|\n",
            "|         US|   32139520|R14YLXA56NP51I|B000FIBD0I|     771888534|Gator GPTBLACK Pl...|Musical Instruments|          5|            1|          1|   N|                N|I upgraded the po...|I've owned multip...| 2015-08-31|\n",
            "|         US|   36060782|R1ZH0HSH38IOTZ|B0002E52GG|      68535945|Hetman 1 - Light ...|Musical Instruments|          5|            0|          0|   N|                Y|My son's favourit...|Consistent qualit...| 2015-08-31|\n",
            "|         US|    5301309|R3H53KLLC210XI|B00RZIH52G|     725541773|Dragonpad pop fil...|Musical Instruments|          4|            0|          0|   N|                Y|Great pop filter ...|by far the best p...| 2015-08-31|\n",
            "|         US|   37472935|R3OOR877NGA8JK|B001792BAU|      46570323|DharmaObjects Rel...|Musical Instruments|          3|            0|          0|   N|                Y|                  Ok|Beautiful set. On...| 2015-08-31|\n",
            "|         US|   33578270|R1BY7WKOZ3KMH0|B009GSKW1Y|     547963417|Musiclily SSS Pla...|Musical Instruments|          2|            0|          0|   N|                Y|           Two Stars|Bridge pickup was...| 2015-08-31|\n",
            "|         US|   22070226| RXP1TFSWE8EG9|B0002F4TKA|     436074323|Vic Firth America...|Musical Instruments|          5|            0|          0|   N|                Y|          Five Stars|Feels good and la...| 2015-08-31|\n",
            "|         US|   52862655|R3J44DPP12OTLJ|B00K17YFBW|      81933093|Guitar Stand for ...|Musical Instruments|          5|            0|          0|   N|                Y|Great stand... on...|I love the stand....| 2015-08-31|\n",
            "|         US|    4427243| RFOV69SK0T676|B00EQ24HJS|     669249276|Generic 3PLY Faux...|Musical Instruments|          5|            0|          0|   N|                Y|Looks great. You ...|On time. Looks gr...| 2015-08-31|\n",
            "|         US|   14108571|R2HUWDNW62FOL3|B00IBOYTUE|     749537231|Audio 2000 6525 3...|Musical Instruments|          1|            0|          0|   N|                Y|  Poor sound quality|I was hoping it w...| 2015-08-31|\n",
            "|         US|   27314089|R1KSU30XZGR452|B00FBRUSAE|     792472601|Sawtooth ST-AMP-1...|Musical Instruments|          5|            0|          0|   N|                Y|Perfect for the b...|Good sound for it...| 2015-08-31|\n",
            "|         US|   16735445|R2TZVLLTSHA07N|B0113D2QUO|     269114019|Upado Unlimited G...|Musical Instruments|          5|            1|          1|   N|                Y|It really is a mu...|Wow! I didn't exp...| 2015-08-31|\n",
            "+-----------+-----------+--------------+----------+--------------+--------------------+-------------------+-----------+-------------+-----------+----+-----------------+--------------------+--------------------+-----------+\n",
            "only showing top 20 rows\n",
            "\n"
          ]
        }
      ]
    },
    {
      "cell_type": "markdown",
      "source": [
        "# Create DataFrame to match Tables"
      ],
      "metadata": {
        "id": "hxHggfynz5Ob"
      }
    },
    {
      "cell_type": "code",
      "source": [
        "from pyspark.sql.functions import to_date\n",
        "# Read in the review Dataset as a Dataframe"
      ],
      "metadata": {
        "id": "UmFpzDMh0AB4"
      },
      "execution_count": 114,
      "outputs": []
    },
    {
      "cell_type": "code",
      "source": [
        "# Create the vine_table. DataFrame\n",
        "vine_df = Musical_Instruments_df.select([\"review_id\",\"star_rating\",\"helpful_votes\",\"total_votes\",\"vine\",\"verified_purchase\"])\n",
        "\n",
        "vine_df.show()\n",
        "vine_df.dtypes"
      ],
      "metadata": {
        "colab": {
          "base_uri": "https://localhost:8080/"
        },
        "id": "87bjJ1CN8pmm",
        "outputId": "1cf5ef12-8db7-48ba-bfe2-fa5eebbf3212"
      },
      "execution_count": 115,
      "outputs": [
        {
          "output_type": "stream",
          "name": "stdout",
          "text": [
            "+--------------+-----------+-------------+-----------+----+-----------------+\n",
            "|     review_id|star_rating|helpful_votes|total_votes|vine|verified_purchase|\n",
            "+--------------+-----------+-------------+-----------+----+-----------------+\n",
            "| RMDCHWD0Y5OZ9|          3|            0|          1|   N|                N|\n",
            "| RZSL0BALIYUNU|          5|            0|          0|   N|                Y|\n",
            "| RIZR67JKUDBI0|          3|            0|          1|   N|                Y|\n",
            "|R27HL570VNL85F|          5|            0|          0|   N|                Y|\n",
            "|R34EBU9QDWJ1GD|          5|            0|          0|   N|                Y|\n",
            "|R1WCUI4Z1SIQEO|          5|            0|          0|   N|                N|\n",
            "| RL5LNO26GAVJ1|          2|            3|          4|   N|                Y|\n",
            "|R3GYQ5W8JHP8SB|          5|            0|          0|   N|                Y|\n",
            "|R30SHYQXGG5EYC|          5|            0|          0|   N|                Y|\n",
            "|R14YLXA56NP51I|          5|            1|          1|   N|                N|\n",
            "|R1ZH0HSH38IOTZ|          5|            0|          0|   N|                Y|\n",
            "|R3H53KLLC210XI|          4|            0|          0|   N|                Y|\n",
            "|R3OOR877NGA8JK|          3|            0|          0|   N|                Y|\n",
            "|R1BY7WKOZ3KMH0|          2|            0|          0|   N|                Y|\n",
            "| RXP1TFSWE8EG9|          5|            0|          0|   N|                Y|\n",
            "|R3J44DPP12OTLJ|          5|            0|          0|   N|                Y|\n",
            "| RFOV69SK0T676|          5|            0|          0|   N|                Y|\n",
            "|R2HUWDNW62FOL3|          1|            0|          0|   N|                Y|\n",
            "|R1KSU30XZGR452|          5|            0|          0|   N|                Y|\n",
            "|R2TZVLLTSHA07N|          5|            1|          1|   N|                Y|\n",
            "+--------------+-----------+-------------+-----------+----+-----------------+\n",
            "only showing top 20 rows\n",
            "\n"
          ]
        },
        {
          "output_type": "execute_result",
          "data": {
            "text/plain": [
              "[('review_id', 'string'),\n",
              " ('star_rating', 'int'),\n",
              " ('helpful_votes', 'int'),\n",
              " ('total_votes', 'int'),\n",
              " ('vine', 'string'),\n",
              " ('verified_purchase', 'string')]"
            ]
          },
          "metadata": {},
          "execution_count": 115
        }
      ]
    },
    {
      "cell_type": "code",
      "source": [
        "# step 1: Filter the data and create a new DataFrame or table to retrieve all the rows where the total_votes count is equal to or greater than 20\n",
        "vine_df1 = vine_df.filter(\"total_votes>=20\")\n",
        "vine_df1.show(10)"
      ],
      "metadata": {
        "colab": {
          "base_uri": "https://localhost:8080/"
        },
        "id": "DRv5UpFZM-9r",
        "outputId": "2e1ce73e-9430-4dc8-a9a1-bfb7fd543a5a"
      },
      "execution_count": 116,
      "outputs": [
        {
          "output_type": "stream",
          "name": "stdout",
          "text": [
            "+--------------+-----------+-------------+-----------+----+-----------------+\n",
            "|     review_id|star_rating|helpful_votes|total_votes|vine|verified_purchase|\n",
            "+--------------+-----------+-------------+-----------+----+-----------------+\n",
            "|R2243Y3OD8U6KQ|          5|           47|         61|   N|                N|\n",
            "|R2TGT0CDTCAAHW|          5|           21|         23|   N|                Y|\n",
            "| RX4D22YSXEF4P|          1|           37|         38|   N|                Y|\n",
            "|R3FL2NTLFUSPTQ|          5|           33|         37|   N|                N|\n",
            "|R3QTP3YNZXAPPF|          3|           23|         24|   N|                Y|\n",
            "|R36V6V42VN5AS5|          5|           34|         37|   N|                Y|\n",
            "|R27LZWE27BJPOB|          5|           22|         23|   N|                N|\n",
            "|  RMRD6SMF2AUQ|          3|            4|         21|   N|                N|\n",
            "| RMPCXKWX3T57Y|          1|            1|         73|   N|                N|\n",
            "|R1P7GJ0IN2BRNH|          5|           37|         37|   N|                Y|\n",
            "+--------------+-----------+-------------+-----------+----+-----------------+\n",
            "only showing top 10 rows\n",
            "\n"
          ]
        }
      ]
    },
    {
      "cell_type": "code",
      "source": [
        "# step 2: Filter the new DataFrame or table created in Step 1 and create a new DataFrame or table to retrieve all the rows \n",
        "# where the number of helpful_votes divided by total_votes is equal to or greater than 50%.\n",
        "\n",
        "import pyspark.sql.functions as F\n",
        "from pyspark.sql.functions import *\n",
        "\n",
        "vine_df2 = vine_df1.withColumn(\"helpful_percent\",(F.col(\"helpful_votes\") / F.col(\"total_votes\")*100))\n",
        "vine_df2.show()\n",
        "#ref:https://stackoverflow.com/questions/53434077/create-a-new-column-with-filter\n",
        "# ref:https://stackoverflow.com/questions/44033037/adding-constant-value-column-to-spark-dataframe"
      ],
      "metadata": {
        "colab": {
          "base_uri": "https://localhost:8080/"
        },
        "id": "6M-plDZaM-2P",
        "outputId": "050d1a61-8c83-447e-ef1f-6e90a15f5656"
      },
      "execution_count": 117,
      "outputs": [
        {
          "output_type": "stream",
          "name": "stdout",
          "text": [
            "+--------------+-----------+-------------+-----------+----+-----------------+------------------+\n",
            "|     review_id|star_rating|helpful_votes|total_votes|vine|verified_purchase|   helpful_percent|\n",
            "+--------------+-----------+-------------+-----------+----+-----------------+------------------+\n",
            "|R2243Y3OD8U6KQ|          5|           47|         61|   N|                N| 77.04918032786885|\n",
            "|R2TGT0CDTCAAHW|          5|           21|         23|   N|                Y| 91.30434782608695|\n",
            "| RX4D22YSXEF4P|          1|           37|         38|   N|                Y| 97.36842105263158|\n",
            "|R3FL2NTLFUSPTQ|          5|           33|         37|   N|                N|  89.1891891891892|\n",
            "|R3QTP3YNZXAPPF|          3|           23|         24|   N|                Y| 95.83333333333334|\n",
            "|R36V6V42VN5AS5|          5|           34|         37|   N|                Y|  91.8918918918919|\n",
            "|R27LZWE27BJPOB|          5|           22|         23|   N|                N| 95.65217391304348|\n",
            "|  RMRD6SMF2AUQ|          3|            4|         21|   N|                N|19.047619047619047|\n",
            "| RMPCXKWX3T57Y|          1|            1|         73|   N|                N|  1.36986301369863|\n",
            "|R1P7GJ0IN2BRNH|          5|           37|         37|   N|                Y|             100.0|\n",
            "|R2R6JPF9KOD2HJ|          5|           19|         20|   N|                Y|              95.0|\n",
            "|R3JM8Z4SP9N3H2|          1|            4|         23|   N|                N|17.391304347826086|\n",
            "|R2J0ZZGFXKM8KR|          2|           21|         22|   N|                Y| 95.45454545454545|\n",
            "|R238ZSG6TSUBNX|          5|           27|         27|   N|                Y|             100.0|\n",
            "|R37WGVXA94D62S|          2|            4|         20|   N|                Y|              20.0|\n",
            "| RC6Y8GYIQZ8YU|          3|           72|         85|   N|                Y| 84.70588235294117|\n",
            "| RFL3TJED8C240|          5|           13|         24|   N|                N|54.166666666666664|\n",
            "|R3D4P7A8Q1C70F|          5|           22|         27|   N|                Y| 81.48148148148148|\n",
            "|R3PRNAQVQBB9M6|          1|           21|         30|   N|                Y|              70.0|\n",
            "|R2NTTIW5KBKLYG|          5|           19|         20|   N|                N|              95.0|\n",
            "+--------------+-----------+-------------+-----------+----+-----------------+------------------+\n",
            "only showing top 20 rows\n",
            "\n"
          ]
        }
      ]
    },
    {
      "cell_type": "code",
      "source": [
        "vine_df2a = vine_df2.filter(\"helpful_percent>=50\")\n",
        "vine_df2a.show(10)"
      ],
      "metadata": {
        "colab": {
          "base_uri": "https://localhost:8080/"
        },
        "id": "FUjg0QFvM-v0",
        "outputId": "502a275d-71c9-4c88-e809-ba5098863051"
      },
      "execution_count": 118,
      "outputs": [
        {
          "output_type": "stream",
          "name": "stdout",
          "text": [
            "+--------------+-----------+-------------+-----------+----+-----------------+-----------------+\n",
            "|     review_id|star_rating|helpful_votes|total_votes|vine|verified_purchase|  helpful_percent|\n",
            "+--------------+-----------+-------------+-----------+----+-----------------+-----------------+\n",
            "|R2243Y3OD8U6KQ|          5|           47|         61|   N|                N|77.04918032786885|\n",
            "|R2TGT0CDTCAAHW|          5|           21|         23|   N|                Y|91.30434782608695|\n",
            "| RX4D22YSXEF4P|          1|           37|         38|   N|                Y|97.36842105263158|\n",
            "|R3FL2NTLFUSPTQ|          5|           33|         37|   N|                N| 89.1891891891892|\n",
            "|R3QTP3YNZXAPPF|          3|           23|         24|   N|                Y|95.83333333333334|\n",
            "|R36V6V42VN5AS5|          5|           34|         37|   N|                Y| 91.8918918918919|\n",
            "|R27LZWE27BJPOB|          5|           22|         23|   N|                N|95.65217391304348|\n",
            "|R1P7GJ0IN2BRNH|          5|           37|         37|   N|                Y|            100.0|\n",
            "|R2R6JPF9KOD2HJ|          5|           19|         20|   N|                Y|             95.0|\n",
            "|R2J0ZZGFXKM8KR|          2|           21|         22|   N|                Y|95.45454545454545|\n",
            "+--------------+-----------+-------------+-----------+----+-----------------+-----------------+\n",
            "only showing top 10 rows\n",
            "\n"
          ]
        }
      ]
    },
    {
      "cell_type": "code",
      "source": [
        "# step 3: Filter the DataFrame or table created in Step 2, and create a new DataFrame or table that retrieves all the rows \n",
        "# where a review was written as part of the Vine program (paid), vine == 'Y'.\n",
        "\n",
        "vine_Y_df3 = vine_df2a.filter(vine_df2a[\"vine\"]==\"Y\")\n",
        "vine_Y_df3.show()\n"
      ],
      "metadata": {
        "colab": {
          "base_uri": "https://localhost:8080/"
        },
        "id": "cUTauKSzM-l-",
        "outputId": "d761ece5-4d89-417c-fef7-beb4e20a847d"
      },
      "execution_count": 119,
      "outputs": [
        {
          "output_type": "stream",
          "name": "stdout",
          "text": [
            "+--------------+-----------+-------------+-----------+----+-----------------+-----------------+\n",
            "|     review_id|star_rating|helpful_votes|total_votes|vine|verified_purchase|  helpful_percent|\n",
            "+--------------+-----------+-------------+-----------+----+-----------------+-----------------+\n",
            "|R1R9RU7JW0MFR2|          4|           20|         23|   Y|                N|86.95652173913044|\n",
            "|R19EFYNN3W8Q07|          5|           26|         32|   Y|                N|            81.25|\n",
            "|R34DJ1R8AEU0SG|          5|           29|         35|   Y|                N|82.85714285714286|\n",
            "|R25P5CXK5L9RHF|          5|          146|        161|   Y|                N| 90.6832298136646|\n",
            "|R2E9VZB3I4LSN5|          5|           55|         59|   Y|                N|93.22033898305084|\n",
            "| RKYLHZL7EPELX|          4|           19|         25|   Y|                N|             76.0|\n",
            "|R1U13EKGQD3ZE6|          5|           22|         25|   Y|                N|             88.0|\n",
            "| RYW05F1MUEF01|          5|           87|        102|   Y|                N|85.29411764705883|\n",
            "|R2SW4NXNO7HZJ5|          4|           28|         33|   Y|                N|84.84848484848484|\n",
            "|R2016NFLSUR97Y|          2|           26|         37|   Y|                N|70.27027027027027|\n",
            "| RFCV9QXJ3D79X|          3|           20|         22|   Y|                N| 90.9090909090909|\n",
            "|R36779ZAY4ZT0Y|          3|           46|         50|   Y|                N|             92.0|\n",
            "|R13PPTBWWV10Q6|          5|           19|         25|   Y|                N|             76.0|\n",
            "|R2A3FFNJTDUBMV|          5|           20|         27|   Y|                N|74.07407407407408|\n",
            "|R3QQG4HUB214TM|          5|          111|        128|   Y|                N|         86.71875|\n",
            "|R3J9OSJNJB7KGM|          5|           70|         80|   Y|                N|             87.5|\n",
            "| RIMYDUAAFXY2U|          5|           22|         23|   Y|                N|95.65217391304348|\n",
            "|R22CYBPLKWDK6F|          5|           47|         54|   Y|                N|87.03703703703704|\n",
            "|R1ETBDZ1LJ8CEL|          4|           28|         32|   Y|                N|             87.5|\n",
            "|R28T5ISQ8AA7E5|          5|           40|         42|   Y|                N|95.23809523809523|\n",
            "+--------------+-----------+-------------+-----------+----+-----------------+-----------------+\n",
            "only showing top 20 rows\n",
            "\n"
          ]
        }
      ]
    },
    {
      "cell_type": "code",
      "source": [
        "# step 4:Repeat Step 3, but this time retrieve all the rows where the review was not part of the Vine program (unpaid), vine == 'N'.\n",
        "\n",
        "vine_N_df3 = vine_df2a.filter(vine_df2a[\"vine\"]==\"N\")\n",
        "vine_N_df3.show()"
      ],
      "metadata": {
        "colab": {
          "base_uri": "https://localhost:8080/"
        },
        "id": "erTD4jbG5C62",
        "outputId": "49a9cbc0-4735-45d8-f49e-5deb94c7acbb"
      },
      "execution_count": 120,
      "outputs": [
        {
          "output_type": "stream",
          "name": "stdout",
          "text": [
            "+--------------+-----------+-------------+-----------+----+-----------------+------------------+\n",
            "|     review_id|star_rating|helpful_votes|total_votes|vine|verified_purchase|   helpful_percent|\n",
            "+--------------+-----------+-------------+-----------+----+-----------------+------------------+\n",
            "|R2243Y3OD8U6KQ|          5|           47|         61|   N|                N| 77.04918032786885|\n",
            "|R2TGT0CDTCAAHW|          5|           21|         23|   N|                Y| 91.30434782608695|\n",
            "| RX4D22YSXEF4P|          1|           37|         38|   N|                Y| 97.36842105263158|\n",
            "|R3FL2NTLFUSPTQ|          5|           33|         37|   N|                N|  89.1891891891892|\n",
            "|R3QTP3YNZXAPPF|          3|           23|         24|   N|                Y| 95.83333333333334|\n",
            "|R36V6V42VN5AS5|          5|           34|         37|   N|                Y|  91.8918918918919|\n",
            "|R27LZWE27BJPOB|          5|           22|         23|   N|                N| 95.65217391304348|\n",
            "|R1P7GJ0IN2BRNH|          5|           37|         37|   N|                Y|             100.0|\n",
            "|R2R6JPF9KOD2HJ|          5|           19|         20|   N|                Y|              95.0|\n",
            "|R2J0ZZGFXKM8KR|          2|           21|         22|   N|                Y| 95.45454545454545|\n",
            "|R238ZSG6TSUBNX|          5|           27|         27|   N|                Y|             100.0|\n",
            "| RC6Y8GYIQZ8YU|          3|           72|         85|   N|                Y| 84.70588235294117|\n",
            "| RFL3TJED8C240|          5|           13|         24|   N|                N|54.166666666666664|\n",
            "|R3D4P7A8Q1C70F|          5|           22|         27|   N|                Y| 81.48148148148148|\n",
            "|R3PRNAQVQBB9M6|          1|           21|         30|   N|                Y|              70.0|\n",
            "|R2NTTIW5KBKLYG|          5|           19|         20|   N|                N|              95.0|\n",
            "|R3JNDLZ3KACRLG|          5|           29|         33|   N|                N| 87.87878787878788|\n",
            "|R1PVVYYY0Q1HZ0|          5|           21|         21|   N|                Y|             100.0|\n",
            "|R1G9N0CW2982PA|          5|           21|         24|   N|                Y|              87.5|\n",
            "|R2N8ZFHQBWHMDL|          2|           26|         28|   N|                Y| 92.85714285714286|\n",
            "+--------------+-----------+-------------+-----------+----+-----------------+------------------+\n",
            "only showing top 20 rows\n",
            "\n"
          ]
        }
      ]
    },
    {
      "cell_type": "markdown",
      "source": [
        "# step 5:Determine the total number of reviews, the number of 5-star reviews, and the percentage of 5-star reviews for the two types of review (paid vs unpaid).\n",
        "\n",
        "reference: https://www.datasciencemadesimple.com/get-number-of-rows-and-number-of-columns-of-dataframe-in-pyspark/"
      ],
      "metadata": {
        "id": "YPN46qB96jCX"
      }
    },
    {
      "cell_type": "code",
      "source": [
        "# step 5:Determine the total number of reviews per Dfs\n",
        "\n",
        "########## Get Size and shape of the dataframe[for the two types of review (paid vs unpaid)] in pyspark\n",
        "total_unpaid_reviews = vine_N_df3.count()\n",
        "total_paid_reviews = vine_Y_df3.count()\n",
        "\n",
        "print((total_unpaid_reviews, \" is the number of total unpaid reviews\"))\n",
        "print((total_paid_reviews, \"is the number of the total paid reviews\"))"
      ],
      "metadata": {
        "colab": {
          "base_uri": "https://localhost:8080/"
        },
        "id": "AzGFrayv5Maj",
        "outputId": "a677a8c9-8679-42f8-99b1-15abbb76f452"
      },
      "execution_count": 121,
      "outputs": [
        {
          "output_type": "stream",
          "name": "stdout",
          "text": [
            "(14477, ' is the number of total unpaid reviews')\n",
            "(60, 'is the number of the total paid reviews')\n"
          ]
        }
      ]
    },
    {
      "cell_type": "code",
      "source": [
        "# step 5:Determine the number of 5-star reviews for the two types of review (paid vs unpaid).\n",
        "\n",
        "########## Get the number of 5-star reviews from the dataframes[paid vs unpaid] in pyspark\n",
        "vine_N_df3.groupBy(\"star_rating\").agg(count(col(\"star_rating\")==5)).show()\n",
        "five_star_unpaid_reviews = vine_N_df3.filter(col(\"star_rating\")==5).count()\n",
        "print((five_star_unpaid_reviews, \"is the number of total unpaid 5-star-reviews\"))\n",
        "# ref: https://stackoverflow.com/questions/49021972/pyspark-count-rows-on-condition"
      ],
      "metadata": {
        "colab": {
          "base_uri": "https://localhost:8080/"
        },
        "outputId": "dc27ab91-cc41-434c-effd-216a52bb6d21",
        "id": "d5q9xReW6RPw"
      },
      "execution_count": 122,
      "outputs": [
        {
          "output_type": "stream",
          "name": "stdout",
          "text": [
            "+-----------+------------------------+\n",
            "|star_rating|count((star_rating = 5))|\n",
            "+-----------+------------------------+\n",
            "|          1|                    1532|\n",
            "|          3|                    1292|\n",
            "|          5|                    8212|\n",
            "|          4|                    2687|\n",
            "|          2|                     754|\n",
            "+-----------+------------------------+\n",
            "\n",
            "(8212, 'is the number of total unpaid 5-star-reviews')\n"
          ]
        }
      ]
    },
    {
      "cell_type": "code",
      "source": [
        "# step 5:Determine the number of 5-star reviews for the two types of review (paid vs unpaid).\n",
        "\n",
        "########## Get the number of 5-star reviews from the dataframes[paid vs unpaid] in pyspark\n",
        "vine_Y_df3.groupBy(\"star_rating\").agg(count(col(\"star_rating\")==5)).show()\n",
        "five_star_paid_reviews = vine_Y_df3.filter(col(\"star_rating\")==5).count()\n",
        "print((five_star_paid_reviews,\"is the number of total unpaid 5-star-reviews\"))\n",
        "# ref: https://stackoverflow.com/questions/49021972/pyspark-count-rows-on-condition"
      ],
      "metadata": {
        "colab": {
          "base_uri": "https://localhost:8080/"
        },
        "id": "e6C7o2Z0-2te",
        "outputId": "606dae2c-1f47-4692-fb16-e5d7fb496cf3"
      },
      "execution_count": 123,
      "outputs": [
        {
          "output_type": "stream",
          "name": "stdout",
          "text": [
            "+-----------+------------------------+\n",
            "|star_rating|count((star_rating = 5))|\n",
            "+-----------+------------------------+\n",
            "|          3|                       9|\n",
            "|          5|                      34|\n",
            "|          4|                      16|\n",
            "|          2|                       1|\n",
            "+-----------+------------------------+\n",
            "\n",
            "(34, 'is the number of total unpaid 5-star-reviews')\n"
          ]
        }
      ]
    },
    {
      "cell_type": "code",
      "source": [
        "# step 5:Determine the percentage of 5-star reviews for the two types of review (paid vs unpaid).\n",
        "percentage_unpaid_5_star_reviews = five_star_unpaid_reviews / total_unpaid_reviews * 100 \n",
        "percentage_paid_5_star_reviews = five_star_paid_reviews / total_paid_reviews * 100\n",
        "print (('Percentage of Unpaid 5-Star reviews:', percentage_unpaid_5_star_reviews))\n",
        "print (('Percentage of Paid 5-Star reviews:', percentage_paid_5_star_reviews))"
      ],
      "metadata": {
        "colab": {
          "base_uri": "https://localhost:8080/"
        },
        "id": "k83soBPw5Mj3",
        "outputId": "ebad218c-3eb3-465b-9188-8b84c3494c02"
      },
      "execution_count": 124,
      "outputs": [
        {
          "output_type": "stream",
          "name": "stdout",
          "text": [
            "('Percentage of Unpaid 5-Star reviews:', 56.72445948746287)\n",
            "('Percentage of Paid 5-Star reviews:', 56.666666666666664)\n"
          ]
        }
      ]
    }
  ]
}